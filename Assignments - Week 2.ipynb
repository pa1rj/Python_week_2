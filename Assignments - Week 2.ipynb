{
 "cells": [
  {
   "cell_type": "markdown",
   "metadata": {},
   "source": [
    "### Topic: Strings \n",
    "\n",
    "    - Escape Commands\n",
    "    - Indexing and Slicing\n",
    "    - Concatenation\n",
    "    - Print formatting\n",
    "    - Methods in Strings    "
   ]
  },
  {
   "cell_type": "markdown",
   "metadata": {},
   "source": [
    "#### 1. Write a python program that prints the following sentence in a single line, as it is."
   ]
  },
  {
   "cell_type": "markdown",
   "metadata": {},
   "source": [
    "\" Raghav was minuting the meeting so that he doesn't miss out on the points discussed. He wrote down in his regular notebook that he always keeps in his backpack & later saves that on his computer in the path e:\\meetings\\notebook\\today.\"\n",
    "\n",
    "**Note:**\n",
    "\n",
    "    Use single quote while creating the string."
   ]
  },
  {
   "cell_type": "code",
   "execution_count": 5,
   "metadata": {},
   "outputs": [
    {
     "name": "stdout",
     "output_type": "stream",
     "text": [
      " Raghav was minuting the meeting so that he doesn't miss out on the points discussed. He wrote down in his regular notebook that he always keeps in his backpack & later saves that on his computer in the path e:\\meetings\\notebook\\today.\n"
     ]
    }
   ],
   "source": [
    "print (' Raghav was minuting the meeting so that he doesn\\'t miss out on the points discussed. He wrote down in his regular notebook that he always keeps in his backpack & later saves that on his computer in the path e:\\meetings\\\\notebook\\\\today.')"
   ]
  },
  {
   "cell_type": "code",
   "execution_count": null,
   "metadata": {},
   "outputs": [],
   "source": []
  },
  {
   "cell_type": "code",
   "execution_count": null,
   "metadata": {},
   "outputs": [],
   "source": []
  },
  {
   "cell_type": "code",
   "execution_count": null,
   "metadata": {},
   "outputs": [],
   "source": []
  },
  {
   "cell_type": "markdown",
   "metadata": {},
   "source": [
    "#### 2. Write a python program that takes user's name and year of birth as input and prints out the info as explained below.\n",
    "\n",
    "\n",
    "**Example**\n",
    "\n",
    "Input : \n",
    "\n",
    "    - name, year of birth\n",
    "\n",
    "Output: \n",
    "\n",
    "\n",
    "    \"Welcome Raghav, we have registered your year of birth as 1989.\n",
    "                 \n",
    "     You are 31 years old now! \"\n",
    "     \n",
    "     \n",
    "##### Note:\n",
    "\n",
    "Solve the above in all the following methods.\n",
    "\n",
    "    - String concatenation \n",
    "    - .format() method\n",
    "    - f-string method"
   ]
  },
  {
   "cell_type": "code",
   "execution_count": 8,
   "metadata": {},
   "outputs": [
    {
     "name": "stdout",
     "output_type": "stream",
     "text": [
      "Welcome Raghav, we have registered your year of birth as 1989.\n",
      "You are 31 years old now! \n"
     ]
    }
   ],
   "source": [
    "import datetime\n",
    "now=datetime.datetime.now()\n",
    "yob =1989\n",
    "age = (int(now.year)-int(yob))\n",
    "name = \"Raghav\"\n",
    "##print (int(age))\n",
    "print('Welcome '+(name)+ ', we have registered your year of birth as '+str(yob)+'.\\nYou are '+str(int(age))+ ' years old now! ')"
   ]
  },
  {
   "cell_type": "code",
   "execution_count": 9,
   "metadata": {},
   "outputs": [
    {
     "name": "stdout",
     "output_type": "stream",
     "text": [
      "Welcome Raghav, we have registered your year of birth as 1989.\n",
      "You are 31 years old now!\n"
     ]
    }
   ],
   "source": [
    "print('Welcome {}, we have registered your year of birth as {}.\\nYou are {} years old now!'.format(name,yob,age))"
   ]
  },
  {
   "cell_type": "code",
   "execution_count": 10,
   "metadata": {},
   "outputs": [
    {
     "name": "stdout",
     "output_type": "stream",
     "text": [
      "Welcome Raghav, we have registered your year of birth as 1989.\n",
      "You are 31 years old now!\n"
     ]
    }
   ],
   "source": [
    "print(f'Welcome {name}, we have registered your year of birth as {yob}.\\nYou are {age} years old now!')"
   ]
  },
  {
   "cell_type": "code",
   "execution_count": null,
   "metadata": {},
   "outputs": [],
   "source": []
  },
  {
   "cell_type": "code",
   "execution_count": null,
   "metadata": {},
   "outputs": [],
   "source": []
  },
  {
   "cell_type": "markdown",
   "metadata": {},
   "source": [
    "#### 3. From the given sentence, form the expected sentence."
   ]
  },
  {
   "cell_type": "markdown",
   "metadata": {},
   "source": [
    "Given Sentence:\n",
    "\n",
    "    \"I started Python Programming today. The day is wonderful\"\n",
    "    \n",
    "Expected Sentence:\n",
    "\n",
    "    \"Python Programming is wonderful\""
   ]
  },
  {
   "cell_type": "code",
   "execution_count": 13,
   "metadata": {},
   "outputs": [
    {
     "name": "stdout",
     "output_type": "stream",
     "text": [
      "Python Programming is wonderful\n"
     ]
    }
   ],
   "source": [
    "a =\"I started Python Programming today. The day is wonderful\"\n",
    "a= a.split(' ')\n",
    "print(a[2]+' ' +a[3]+' '+a[7]+' '+a[8])"
   ]
  },
  {
   "cell_type": "code",
   "execution_count": null,
   "metadata": {},
   "outputs": [],
   "source": []
  },
  {
   "cell_type": "code",
   "execution_count": null,
   "metadata": {},
   "outputs": [],
   "source": []
  },
  {
   "cell_type": "code",
   "execution_count": null,
   "metadata": {},
   "outputs": [],
   "source": []
  },
  {
   "cell_type": "code",
   "execution_count": null,
   "metadata": {},
   "outputs": [],
   "source": []
  },
  {
   "cell_type": "markdown",
   "metadata": {},
   "source": [
    "#### 4. Write a Python Program to take user input and do the following."
   ]
  },
  {
   "cell_type": "markdown",
   "metadata": {},
   "source": [
    "**Example:**\n",
    "\n",
    "Input:\n",
    "\n",
    "    User's name: 'RaGhaV'\n",
    "    \n",
    "Outputs:\n",
    "\n",
    "    Output 1: 'Welcome, raghav'\n",
    "    Output 1: 'Hi, Raghav. Was it a Rainy Day?'\n",
    "    Output 2: 'Hi, RAGHAV. Was it a Sunny Day?'\n",
    "    Output 3: 'Hi, Buddy. Was it a great day?'\n",
    "    \n",
    "Note:\n",
    "    \n",
    "    - User input shall be changed to lower case\n",
    "    - The input is same for all the outputs\n",
    "    - The outputs shall be from one next to another"
   ]
  },
  {
   "cell_type": "code",
   "execution_count": 16,
   "metadata": {},
   "outputs": [
    {
     "name": "stdout",
     "output_type": "stream",
     "text": [
      "Welcome, raghav\n",
      "Hi, RaGhaV. Was it a Rainy Day?\n",
      "Hi, RAGHAV. Was it a Sunny Day?\n",
      "Hi, Buddy. Was it a great day?\n"
     ]
    }
   ],
   "source": [
    "a = 'RaGhaV'\n",
    "\n",
    "print('Welcome,'+' '+  a.lower())\n",
    "print('Hi,'+' '+(a)+'.'+ ' Was it a Rainy Day?')\n",
    "print('Hi,'+' '+a.upper()+'. Was it a Sunny Day?')\n",
    "print('Hi, Buddy. Was it a great day?')"
   ]
  },
  {
   "cell_type": "code",
   "execution_count": null,
   "metadata": {},
   "outputs": [],
   "source": []
  },
  {
   "cell_type": "code",
   "execution_count": null,
   "metadata": {},
   "outputs": [],
   "source": []
  },
  {
   "cell_type": "code",
   "execution_count": null,
   "metadata": {},
   "outputs": [],
   "source": []
  },
  {
   "cell_type": "markdown",
   "metadata": {},
   "source": [
    "#### 5. Write a Python Program to print the alphabet in reverse."
   ]
  },
  {
   "cell_type": "code",
   "execution_count": 17,
   "metadata": {},
   "outputs": [
    {
     "name": "stdout",
     "output_type": "stream",
     "text": [
      "Python training assignment week -2\n",
      "zyxwvutsrqponmlkjihgfedcba\n"
     ]
    }
   ],
   "source": [
    "a = '2- keew tnemngissa gniniart nohtyP'[::-1]\n",
    "print (a)\n",
    "b = 'abcdefghijklmnopqrstuvwxyz'[::-1]\n",
    "print (b)"
   ]
  },
  {
   "cell_type": "code",
   "execution_count": null,
   "metadata": {},
   "outputs": [],
   "source": []
  },
  {
   "cell_type": "code",
   "execution_count": null,
   "metadata": {},
   "outputs": [],
   "source": []
  }
 ],
 "metadata": {
  "kernelspec": {
   "display_name": "Python 3",
   "language": "python",
   "name": "python3"
  },
  "language_info": {
   "codemirror_mode": {
    "name": "ipython",
    "version": 3
   },
   "file_extension": ".py",
   "mimetype": "text/x-python",
   "name": "python",
   "nbconvert_exporter": "python",
   "pygments_lexer": "ipython3",
   "version": "3.6.5"
  }
 },
 "nbformat": 4,
 "nbformat_minor": 4
}
